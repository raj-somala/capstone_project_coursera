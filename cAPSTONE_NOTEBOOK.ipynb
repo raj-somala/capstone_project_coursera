{
    "cells": [
        {
            "cell_type": "markdown", 
            "source": "<H2>Capstone Project</H2>\n", 
            "metadata": {
                "collapsed": true
            }
        }, 
        {
            "cell_type": "markdown", 
            "source": "import pandas as pd\nprint('Pandas Library imported')\nimport numpy as np\nprint('Numpy Library imported')\nprint('Hello Capstone Project Course!')", 
            "metadata": {}
        }, 
        {
            "cell_type": "code", 
            "execution_count": 2, 
            "source": "import pandas as pd\nprint('Pandas Library imported')\nimport numpy as np\nprint('Numpy Library imported')\nprint('Hello Capstone Project Course!')", 
            "metadata": {}, 
            "outputs": [
                {
                    "output_type": "stream", 
                    "text": "Pandas Library imported\nNumpy Library imported\nHello Capstone Project Course!\n", 
                    "name": "stdout"
                }
            ]
        }, 
        {
            "cell_type": "code", 
            "execution_count": null, 
            "source": "", 
            "metadata": {}, 
            "outputs": []
        }
    ], 
    "nbformat": 4, 
    "metadata": {
        "kernelspec": {
            "language": "python3", 
            "display_name": "Python 3.5 with Spark", 
            "name": "python3"
        }, 
        "language_info": {
            "pygments_lexer": "ipython3", 
            "mimetype": "text/x-python", 
            "nbconvert_exporter": "python", 
            "name": "python", 
            "file_extension": ".py", 
            "version": "3.5.4", 
            "codemirror_mode": {
                "version": 3, 
                "name": "ipython"
            }
        }
    }, 
    "nbformat_minor": 1
}