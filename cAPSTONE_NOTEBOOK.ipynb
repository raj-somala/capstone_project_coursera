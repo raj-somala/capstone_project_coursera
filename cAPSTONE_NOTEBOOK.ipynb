{
    "cells": [
        {
            "cell_type": "markdown", 
            "source": "<H2>Capstone Project</H2>\n", 
            "metadata": {
                "collapsed": true
            }
        }, 
        {
            "cell_type": "markdown", 
            "source": "import pandas as pd\nprint('Pandas Library imported')\nimport numpy as np\nprint('Numpy Library imported')\nprint('Hello Capstone Project Course!')", 
            "metadata": {}
        }, 
        {
            "cell_type": "code", 
            "source": "import pandas as pd\nprint('Pandas Library imported')\nimport numpy as np\nprint('Numpy Library imported')\nprint('Hello Capstone Project Course!')", 
            "metadata": {}, 
            "outputs": [
                {
                    "text": "Pandas Library imported\nNumpy Library imported\nHello Capstone Project Course!\n", 
                    "output_type": "stream", 
                    "name": "stdout"
                }
            ], 
            "execution_count": 2
        }, 
        {
            "cell_type": "code", 
            "source": "", 
            "metadata": {}, 
            "outputs": [], 
            "execution_count": null
        }
    ], 
    "nbformat_minor": 1, 
    "nbformat": 4, 
    "metadata": {
        "kernelspec": {
            "language": "python3", 
            "display_name": "Python 3.5 with Spark", 
            "name": "python3"
        }, 
        "language_info": {
            "file_extension": ".py", 
            "version": "3.5.4", 
            "mimetype": "text/x-python", 
            "nbconvert_exporter": "python", 
            "name": "python", 
            "pygments_lexer": "ipython3", 
            "codemirror_mode": {
                "version": 3, 
                "name": "ipython"
            }
        }
    }
}